{
 "cells": [
  {
   "cell_type": "markdown",
   "metadata": {},
   "source": [
    "# MOF(metal organic framework) Builder \n",
    "initialize the Mofbuilder and ask the Mofbuilder to show all available MOFs family"
   ]
  },
  {
   "cell_type": "code",
   "execution_count": null,
   "metadata": {},
   "outputs": [],
   "source": [
    "import veloxchem as vlx\n",
    "mof = vlx.MofBuilder()\n",
    "mof.show_available_mof_families() # can be skipped if you know the family name"
   ]
  },
  {
   "cell_type": "markdown",
   "metadata": {},
   "source": [
    "To build a target MOF, you need to: \n",
    "1. assign MOF family\n",
    "2. assign the node metal type \n",
    "3. upload the linker file (with carboxylate) in xyz format \\\n",
    "\n",
    "\n",
    "you can also set the supercell size of the model \\\n",
    "then we can ***build*** the MOF \\\n",
    "we can save the model with gromacs file format and show it"
   ]
  },
  {
   "cell_type": "code",
   "execution_count": null,
   "metadata": {},
   "outputs": [],
   "source": [
    "mof.mof_family = 'UiO-66'\n",
    "mof.node_metal = 'Zr'\n",
    "mof.linker_xyz_file = 'data/linker.xyz'\n",
    "mof.supercell = (1,1,1) # (1,1,1) means primitive cell \n",
    "mof.build()\n",
    "mof.write_gromacs_files()\n",
    "mof.show(res_indices=True,res_names=False)"
   ]
  },
  {
   "cell_type": "markdown",
   "metadata": {},
   "source": [
    "we can make defective models by remove linkers or nodes \\\n",
    "here we just want to remove the linker in the corner "
   ]
  },
  {
   "cell_type": "code",
   "execution_count": null,
   "metadata": {},
   "outputs": [],
   "source": [
    "#the index of the linkers or nodes to be removed can be shown in the last cell output\n",
    "mof.remove_nodes([]) # no nodes to be removed\n",
    "mof.remove_linkers([33]) # remove the linker with index 33\n",
    "\n",
    "#create the defective model and write the gromacs files\n",
    "mof.make_defects_missing(clean_unsaturated_linkers=True,update_node_term=True)\n",
    "mof.write_defective_model_gromacs_file()\n",
    "\n",
    "#show the defective model \n",
    "mof.show_defective_model(res_indices=False,res_names=False) "
   ]
  }
 ],
 "metadata": {
  "language_info": {
   "name": "python"
  }
 },
 "nbformat": 4,
 "nbformat_minor": 2
}
