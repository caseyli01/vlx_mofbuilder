{
 "cells": [
  {
   "cell_type": "code",
   "execution_count": null,
   "metadata": {},
   "outputs": [
    {
     "name": "stdout",
     "output_type": "stream",
     "text": [
      " no symmetry operation\n",
      " no symmetry operation\n",
      "P1 cell\n",
      "P1 cell\n",
      "P1 cell\n",
      "P1 cell\n"
     ]
    },
    {
     "name": "stderr",
     "output_type": "stream",
     "text": [
      " This problem is unconstrained.\n"
     ]
    },
    {
     "name": "stdout",
     "output_type": "stream",
     "text": [
      "RUNNING THE L-BFGS-B CODE\n",
      "\n",
      "           * * *\n",
      "\n",
      "Machine precision = 2.220D-16\n",
      " N =          252     M =           10\n",
      "\n",
      "At X0         0 variables are exactly at the bounds\n",
      "\n",
      "At iterate    0    f=  6.93767D+07    |proj g|=  2.23517D+01\n",
      "\n",
      "At iterate    1    f=  6.93767D+07    |proj g|=  2.38419D+01\n",
      "\n",
      "           * * *\n",
      "\n",
      "Tit   = total number of iterations\n",
      "Tnf   = total number of function evaluations\n",
      "Tnint = total number of segments explored during Cauchy searches\n",
      "Skip  = number of BFGS updates skipped\n",
      "Nact  = number of active bounds at final generalized Cauchy point\n",
      "Projg = norm of the final projected gradient\n",
      "F     = final function value\n",
      "\n",
      "           * * *\n",
      "\n",
      "   N    Tit     Tnf  Tnint  Skip  Nact     Projg        F\n",
      "  252      1     12      1     0     0   2.384D+01   6.938D+07\n",
      "  F =   69376653.661462367     \n",
      "\n",
      "CONVERGENCE: REL_REDUCTION_OF_F_<=_FACTR*EPSMCH             \n",
      "edge lengths: {('V0', 'V1'): 21.213, ('V1', 'V0'): 21.213, ('V0', 'V2'): 21.213, ('V2', 'V0'): 21.213, ('V0', 'V3'): 21.213, ('V3', 'V0'): 21.213, ('V0', 'V10'): 21.213, ('V10', 'V0'): 21.213, ('V0', 'V11'): 21.213, ('V11', 'V0'): 21.213, ('V0', 'V17'): 21.213, ('V17', 'V0'): 21.213, ('V0', 'V19'): 21.213, ('V19', 'V0'): 21.213, ('V0', 'V35'): 21.213, ('V35', 'V0'): 21.213, ('V0', 'V73'): 21.213, ('V73', 'V0'): 21.213, ('V0', 'V74'): 21.213, ('V74', 'V0'): 21.213, ('V0', 'V82'): 21.213, ('V82', 'V0'): 21.213, ('V0', 'V89'): 21.213, ('V89', 'V0'): 21.213, ('V1', 'V36'): 21.213, ('V36', 'V1'): 21.213, ('V1', 'V12'): 21.213, ('V12', 'V1'): 21.213, ('V1', 'V48'): 21.213, ('V48', 'V1'): 21.213, ('V1', 'V2'): 21.213, ('V2', 'V1'): 21.213, ('V1', 'V3'): 21.213, ('V3', 'V1'): 21.213, ('V1', 'V39'): 21.213, ('V39', 'V1'): 21.213, ('V1', 'V14'): 21.213, ('V14', 'V1'): 21.213, ('V1', 'V10'): 21.213, ('V10', 'V1'): 21.213, ('V1', 'V11'): 21.213, ('V11', 'V1'): 21.213, ('V1', 'V47'): 21.213, ('V47', 'V1'): 21.213, ('V1', 'V30'): 21.213, ('V30', 'V1'): 21.213, ('V36', 'V2'): 21.213, ('V2', 'V36'): 21.213, ('V12', 'V3'): 21.213, ('V3', 'V12'): 21.213, ('V2', 'V3'): 21.213, ('V3', 'V2'): 21.213, ('V2', 'V39'): 21.213, ('V39', 'V2'): 21.213, ('V2', 'V4'): 21.213, ('V4', 'V2'): 21.213, ('V2', 'V40'): 21.213, ('V40', 'V2'): 21.213, ('V2', 'V5'): 21.213, ('V5', 'V2'): 21.213, ('V2', 'V17'): 21.213, ('V17', 'V2'): 21.213, ('V2', 'V19'): 21.213, ('V19', 'V2'): 21.213, ('V2', 'V55'): 21.213, ('V55', 'V2'): 21.213, ('V2', 'V25'): 21.213, ('V25', 'V2'): 21.213, ('V3', 'V14'): 21.213, ('V14', 'V3'): 21.213, ('V3', 'V4'): 21.213, ('V4', 'V3'): 21.213, ('V3', 'V5'): 21.213, ('V5', 'V3'): 21.213, ('V3', 'V20'): 21.213, ('V20', 'V3'): 21.213, ('V3', 'V73'): 21.213, ('V73', 'V3'): 21.213, ('V3', 'V74'): 21.213, ('V74', 'V3'): 21.213, ('V3', 'V86'): 21.213, ('V86', 'V3'): 21.213, ('V3', 'V77'): 21.213, ('V77', 'V3'): 21.213} {21.213}\n",
      "Optimized New Cell Parameters: [39.37174 39.37174 39.37174 90.      90.      90.     ] \n",
      "Template Cell Parameters: [30.0, 30.0, 30.0, 90.0, 90.0, 90.0]\n"
     ]
    },
    {
     "name": "stderr",
     "output_type": "stream",
     "text": [
      "\n",
      " Warning:  more than 10 function and gradient\n",
      "   evaluations in the last line search.  Termination\n",
      "   may possibly be caused by a bad search direction.\n"
     ]
    }
   ],
   "source": [
    "from src.MOF_builder.v2_builder import net_optimizer\n",
    "\n",
    "import numpy as np\n",
    "\n",
    "\n",
    "linker_cif = 'diedge.cif'\n",
    "node_target_type = 'Zr'\n",
    "\n",
    "#in database by calling MOF family name and node metal type, dummy node True or False\n",
    "template_cif = 'fcu.cif' #from MOF family name in config dict file\n",
    "node_cif = 'node2.cif' #from MOF family name  and node metal type in config dict file\n",
    "\n",
    "\n",
    "fcu = net_optimizer()\n",
    "fcu.analyze_template_ditopic(template_cif)\n",
    "fcu.node_info(node_cif,node_target_type)\n",
    "fcu.linker_info(linker_cif)\n",
    "fcu.optimize()"
   ]
  },
  {
   "cell_type": "code",
   "execution_count": 2,
   "metadata": {},
   "outputs": [
    {
     "data": {
      "text/plain": [
       "<networkx.classes.graph.Graph at 0x169c80fd0>"
      ]
     },
     "execution_count": 2,
     "metadata": {},
     "output_type": "execute_result"
    }
   ],
   "source": [
    "supercell = [1,1,1]\n",
    "#find unsaturated node idx\n",
    "fcu.place_edge_in_net()\n",
    "fcu.set_supercell(supercell)\n",
    "fcu.make_supercell_ditopic()\n",
    "fcu.make_eG_from_supereG_ditopic()\n",
    "fcu.main_frag_eG()\n"
   ]
  },
  {
   "cell_type": "code",
   "execution_count": 3,
   "metadata": {},
   "outputs": [
    {
     "name": "stdout",
     "output_type": "stream",
     "text": [
      "fcu_ditopic .gro is saved\n",
      "node_res_num:  14\n",
      "edge_res_num:  72\n",
      "term_res_num:  96\n"
     ]
    }
   ],
   "source": [
    "fcu.make_supercell_range_cleaved_eG()\n",
    "fcu.add_xoo_to_edge_ditopic()\n",
    "fcu.find_unsaturated_node_eG()\n",
    "fcu.set_node_terminamtion('methyl.pdb')\n",
    "fcu.add_terminations_to_unsaturated_node()\n",
    "fcu.remove_xoo_from_node()\n",
    "fcu.write_node_edge_node_gro('fcu_ditopic')\n",
    "\n",
    "#temp_save_eGterm_gro(fcu.eG,fcu.sc_unit_cell) #debug\n",
    "\n",
    "\n",
    "  "
   ]
  },
  {
   "cell_type": "code",
   "execution_count": 9,
   "metadata": {},
   "outputs": [
    {
     "data": {
      "text/plain": [
       "array([['1', 'TERM', 'X', ..., -3.150253303228628, 'C1', 11],\n",
       "       ['1', 'TERM', 'C', ..., -4.219429736213236, 'C2', 11],\n",
       "       ['1', 'TERM', 'Y', ..., -1.963327596541469, 'O1', 11],\n",
       "       ...,\n",
       "       ['96', 'TERM', 'H', ..., 43.15324920910757, 'H1', 49],\n",
       "       ['96', 'TERM', 'H', ..., 44.22313877340248, 'H2', 49],\n",
       "       ['96', 'TERM', 'H', ..., 44.222838890794534, 'H3', 49]],\n",
       "      dtype=object)"
      ]
     },
     "execution_count": 9,
     "metadata": {},
     "output_type": "execute_result"
    }
   ],
   "source": [
    "fcu.terms_eG\n"
   ]
  },
  {
   "cell_type": "markdown",
   "metadata": {},
   "source": [
    "# defects and postprocess of node residues split \n",
    "### todo: make defects on eG and add terminations \n",
    "### todo: add linker exchange defects by superimpose the x ;linker_termination can be realized by linker exchange;\n",
    "### todo: split dummy nodes by use dummy dict info ;"
   ]
  },
  {
   "cell_type": "code",
   "execution_count": 21,
   "metadata": {},
   "outputs": [
    {
     "data": {
      "text/plain": [
       "{'V0_[0. 0. 0.]', 'V1_[0. 0. 0.]', 'V2_[0. 0. 0.]'}"
      ]
     },
     "execution_count": 21,
     "metadata": {},
     "output_type": "execute_result"
    }
   ],
   "source": [
    "def extract_node_name_from_gro_resindex(res_index, node_array):\n",
    "    nodes_name = set()\n",
    "    for node_ind in res_index:\n",
    "        node_name = node_array[node_array[:,0]==str(node_ind)][:,-1]\n",
    "        name_set = set(node_name)\n",
    "        nodes_name = nodes_name.union(name_set)\n",
    "    return nodes_name\n",
    "extract_node_name_from_gro_resindex([1,2,3], fcu.nodes_eG)"
   ]
  },
  {
   "cell_type": "markdown",
   "metadata": {},
   "source": [
    "# preprocess : fetch node, make dummy node, make linker\n",
    "### todo: process node with pdb format, process_node_pdb: extract node and linker pdb info "
   ]
  },
  {
   "cell_type": "code",
   "execution_count": 1,
   "metadata": {},
   "outputs": [],
   "source": [
    "import os\n",
    "import numpy as np\n",
    "import veloxchem as vlx\n",
    "import networkx as nx\n",
    "from src.MOF_builder.add_dummy2node import nodepdb2G,add_dummy_atoms_nodepdb\n",
    "from src.MOF_builder.frag_recognizer import process_linker_molecule\n",
    "from src.MOF_builder.fetchfile import  fetch_pdbfile,read_mof_top_dict,find_data_folder,copy_file\n",
    "\n",
    "\n",
    "#from node pdb make dummy node pdb\n",
    "#todo: make process node to process node pdb\n",
    "\n",
    "def nodepdb(filename):\n",
    "        xyzlines = ''\n",
    "        inputfile = str(filename)\n",
    "        with open(inputfile, \"r\") as fp:\n",
    "            content = fp.readlines()\n",
    "            #linesnumber = len(content)\n",
    "        data = []\n",
    "        for line in content:\n",
    "            line = line.strip()\n",
    "            if len(line)>0: #skip blank line\n",
    "                if line[0:6] == \"ATOM\" or line[0:6] == \"HETATM\":\n",
    "                    value_atom = line[12:16].strip()  # atom_label\n",
    "                    value_x = float(line[30:38])  # x\n",
    "                    value_y = float(line[38:46])  # y\n",
    "                    value_z = float(line[46:54])  # z\n",
    "                    atom_type = line[67:80].strip() # atom_note\n",
    "                    formatted_xyz_line = \"{:6s}  {:8.3f} {:8.3f} {:8.3f}\".format(atom_type, value_x, value_y, value_z)\n",
    "                    xyzlines+=formatted_xyz_line+'\\n'\n",
    "                    data.append([value_atom,atom_type,value_x,value_y,value_z])\n",
    "        head = str(len(data))+'\\n'+'\\n'\n",
    "        xyz_lines = head + xyzlines\n",
    "        return xyz_lines,np.vstack(data)\n",
    "\n",
    "\n"
   ]
  },
  {
   "cell_type": "code",
   "execution_count": 2,
   "metadata": {},
   "outputs": [
    {
     "name": "stdout",
     "output_type": "stream",
     "text": [
      "Available MOF Family:\n",
      "TEST-MOF UiO-66 UiO-67 UiO-68 PCN-222 MOF-545 NU-1000 PCN-224 MOF-525 MOF-535 MOF-808 MOF-818 PCN-777 NU-901 MIL-100 MIL-101 PCN-228 PCN-229 PCN-230 MIL-53\n"
     ]
    }
   ],
   "source": [
    "data_path = find_data_folder()\n",
    "mof_top_dict = read_mof_top_dict(data_path)\n",
    "#print mof_top_dict keys fit to screen\n",
    "print('Available MOF Family:')\n",
    "print(' '.join(mof_top_dict.keys()))\n"
   ]
  },
  {
   "cell_type": "code",
   "execution_count": 3,
   "metadata": {},
   "outputs": [
    {
     "name": "stdout",
     "output_type": "stream",
     "text": [
      "found the file including ['12c', 'Zr']\n",
      "File copied from /Users/chenxili/GitHub/vlx_mofbuilder/data/nodes_database/12c_Zr.pdb to nodes/12c_Zr.pdb\n",
      "nodes/12c_Zr_dummy_dict saved\n",
      "nodes/12c_Zr_dummy.pdb saved\n",
      "nodes/12c_Zr.pdb removed\n",
      "center is two points\n",
      "[9, 14]\n",
      "ditopic linker: center are two points\n",
      "find connected X in edge:   24\n",
      "find connected X in edge:   39\n",
      "center_frag: 46 [18, 33]\n",
      "found the file including ['12c', 'Zr', 'dummy']\n"
     ]
    }
   ],
   "source": [
    "mof_family = 'UiO-66'\n",
    "node_connectivity = mof_top_dict[mof_family]['node_connectivity']\n",
    "linker_topic = mof_top_dict[mof_family]['linker_topic']\n",
    "template_cif = mof_top_dict[mof_family]['topology']+ '.cif'\n",
    "DUMMY_NODE = True\n",
    "metal = 'Zr'\n",
    "linker_file = 'outndi.xyz'\n",
    "#nodes_database_path = os.path.join(data_path,'nodes_database')\n",
    "linkers_database_path = ''\n",
    "nodes_database_path = os.path.join(data_path,\"nodes_database\")\n",
    "node_pdb = fetch_pdbfile(nodes_database_path, [str(node_connectivity)+'c',metal],['dummy'])\n",
    "#if node_termination == 'methyl' :\n",
    "   # n_term_file = '../data/terminations_database/methyl.pdb'\n",
    "for i in range(len(node_pdb)):\n",
    "    node_pdb_database = os.path.join(data_path,'nodes_database/'+node_pdb[i])\n",
    "    target_node_path = os.path.join('nodes',node_pdb[i])\n",
    "    copy_file(node_pdb_database,target_node_path)\n",
    "\n",
    "if DUMMY_NODE:\n",
    "    #node_pdbfile = 'data/nodes_database/12c_Zr.pdb'\n",
    "    #print(node_pdbfile)\n",
    "    nodeG = nodepdb2G(target_node_path,metal)\n",
    "    all_lines,dummy_ciffile = add_dummy_atoms_nodepdb(target_node_path,metal,nodeG)\n",
    "if DUMMY_NODE:\n",
    "    os.remove(target_node_path)\n",
    "    print(target_node_path,'removed')\n",
    "\n",
    "molecule = vlx.Molecule.read_xyz_file(linker_file)\n",
    "center_frag_nodes_num,center_Xs,single_frag_nodes_num,frag_Xs= process_linker_molecule(molecule,linker_topic)\n",
    "\n",
    "templates_dir = 'data/template_database' #default \n",
    "nodes_dir = os.path.dirname(target_node_path)#'nodes' #default \n",
    "edges_dir = 'edges' #default \n",
    "\n",
    "if DUMMY_NODE:\n",
    "    keywords = [str(node_connectivity)+'c',metal,'dummy']\n",
    "    nokeywords = []\n",
    "else:\n",
    "    keywords = [str(node_connectivity)+'c',metal]\n",
    "    nokeywords = ['dummy']\n",
    "\n",
    "dummy_node_name = fetch_pdbfile(nodes_dir,keywords, nokeywords)[0]\n"
   ]
  }
 ],
 "metadata": {
  "kernelspec": {
   "display_name": "vlx",
   "language": "python",
   "name": "python3"
  },
  "language_info": {
   "codemirror_mode": {
    "name": "ipython",
    "version": 3
   },
   "file_extension": ".py",
   "mimetype": "text/x-python",
   "name": "python",
   "nbconvert_exporter": "python",
   "pygments_lexer": "ipython3",
   "version": "3.11.8"
  }
 },
 "nbformat": 4,
 "nbformat_minor": 2
}
