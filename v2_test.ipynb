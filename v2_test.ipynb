{
 "cells": [
  {
   "cell_type": "code",
   "execution_count": null,
   "metadata": {},
   "outputs": [],
   "source": [
    "from src.MOF_builder.vlx_mof_builder_v2 import mof_builder\n",
    "mof = mof_builder()\n",
    "mof.preparation.select_mof_family('UiO-67')\n",
    "mof.preparation.select_node_metal('Zr')\n",
    "mof.preparation.use_dummy_node(True)\n",
    "mof.preparation.fetch_node()\n",
    "mof.preparation.fetch_linker('ndi.xyz')\n",
    "mof.preparation_check()\n",
    "mof.rotation_optimizer_maxfun = 1000\n",
    "mof.use_saved_optimized_rotations_npy('rota')\n",
    "#save optimized rotations to numpy file for later use\n",
    "mof.save_optimized_rotations('rota')\n",
    "mof.set_supercell([1,1,1])\n",
    "mof.build()\n",
    "mof.write_gro()\n",
    "mof.set_remove_edge_list([30,31,32])\n",
    "mof.set_remove_node_list([])\n",
    "mof.make_defects_missing()\n",
    "mof.write_defect_gro()\n"
   ]
  },
  {
   "cell_type": "code",
   "execution_count": null,
   "metadata": {},
   "outputs": [],
   "source": [
    "mof.set_exchange_edge_list([15,16,17,18])\n",
    "mof.set_to_exchange_edge_pdb('ndi_NN.pdb')\n",
    "mof.make_defects_exchange()\n",
    "mof.write_defect_gro()\n",
    "mof.write_defective_split_node_gro_again('t1')"
   ]
  },
  {
   "cell_type": "code",
   "execution_count": null,
   "metadata": {},
   "outputs": [],
   "source": [
    "mof.set_gro_name('kept')\n",
    "mof.write_gro()\n",
    "mof.write_split_node_gro_again('t2')"
   ]
  },
  {
   "cell_type": "markdown",
   "metadata": {},
   "source": [
    "##### done: defects and postprocess of node residues split \n",
    "##### done: make defects on eG and add terminations \n",
    "##### done: add linker exchange defects by superimpose the x ;linker_termination can be realized by linker exchange;\n",
    "##### done: split dummy nodes by use dummy dict info ;"
   ]
  },
  {
   "cell_type": "markdown",
   "metadata": {},
   "source": [
    "##### fixed: dummy atom recognizer bug\n",
    "##### postponed: write dict even with dummy node False to split node\n",
    "##### done: multitopic test\n",
    "##### postponed: bridge node and virtual edge test "
   ]
  },
  {
   "cell_type": "code",
   "execution_count": null,
   "metadata": {},
   "outputs": [],
   "source": [
    "from src.MOF_builder.vlx_mof_builder_v2 import mof_builder\n",
    "mof = mof_builder()\n",
    "mof.preparation.select_mof_family('MOF-525')\n",
    "mof.preparation.select_node_metal('Zr')\n",
    "#mof.preparation.use_dummy_node(True)\n",
    "mof.preparation.fetch_node()\n",
    "mof.preparation.fetch_linker('noCoTCPP.xyz')\n",
    "mof.preparation_check()\n",
    "\n",
    "#mof.use_saved_optimized_rotations_npy('rotb')\n",
    "#save optimized rotations to numpy file for later use\n",
    "mof.save_optimized_rotations('rotb')\n",
    "mof.set_supercell([1,1,1])\n",
    "mof.build()\n",
    "mof.write_gro()\n"
   ]
  },
  {
   "cell_type": "code",
   "execution_count": null,
   "metadata": {},
   "outputs": [],
   "source": [
    "#add settings for rotation optimization\n",
    "#fmin_l_bfgs_b(func, x0, fprime=None, args=(), approx_grad=0, bounds=None, m=10, factr=10000000.0, pgtol=1e-05, epsilon=1e-08, iprint=-1, maxfun=15000, maxiter=15000, disp=None, callback=None, maxls=20)[source]\n"
   ]
  }
 ],
 "metadata": {
  "kernelspec": {
   "display_name": "vlx",
   "language": "python",
   "name": "python3"
  },
  "language_info": {
   "codemirror_mode": {
    "name": "ipython",
    "version": 3
   },
   "file_extension": ".py",
   "mimetype": "text/x-python",
   "name": "python",
   "nbconvert_exporter": "python",
   "pygments_lexer": "ipython3",
   "version": "3.11.6"
  }
 },
 "nbformat": 4,
 "nbformat_minor": 2
}
