{
 "cells": [
  {
   "cell_type": "code",
   "execution_count": 1,
   "metadata": {},
   "outputs": [
    {
     "name": "stdout",
     "output_type": "stream",
     "text": [
      "Available MOF Family:\n",
      "TEST-MOF UiO-66 UiO-67 UiO-68 PCN-222 MOF-545 NU-1000 PCN-224 MOF-525 MOF-535 MOF-808 MOF-818 PCN-777 NU-901 MIL-100 MIL-101 PCN-228 PCN-229 PCN-230\n",
      "MOF builder is initialized, please prepare the building material by calling the preparation driver\n",
      "1.preparation.select_mof_family()\n",
      "2.preparation.select_node_metal()\n",
      "3.preparation.use_dummy_node()\n",
      "4.preparation.fetch_node()\n",
      "5.preparation.fetch_linker()\n",
      "***check the preparation status by calling preparation_check()***\n",
      "UiO-67 selected\n",
      "available metal nodes: ['Zr', 'Hf']\n",
      "please select a metal node\n",
      "will search template cif files in /Users/chenxili/GitHub/vlx_mofbuilder/data/template_database\n",
      "fcu.cif is found in template_database\n",
      "fcu.cif will be used for MOF building\n",
      "Zr node is selected\n",
      "if you want to use dummy node, please select dummy node type with select_dummy_node method\n",
      "now we are going to fetch the node pdb file\n",
      "found the file including ['12c', 'Zr']\n",
      "File copied from /Users/chenxili/GitHub/vlx_mofbuilder/data/nodes_database/12c_Zr.pdb to nodes/12c_Zr.pdb\n",
      "nodes/12c_Zr.pdb is fetched\n",
      "default node without dummy atoms will be usednodes/12c_Zr.pdb\n",
      "nodes will be saved in nodes\n",
      "found the file including ['12c', 'Zr']\n",
      "2 is selected for linker splitting\n",
      "center is two points\n",
      "[9, 14]\n",
      "ditopic linker: center are two points\n",
      "find connected X in edge:   24\n",
      "find connected X in edge:   39\n",
      "linker_center_frag: 46 [18, 33]\n",
      "linker edge fragment edges/diedge.pdb is saved and will be used for MOF building\n",
      "--------------------------------------------------------------------------------\n",
      "                     Preparation is completed                     \n",
      "--------------------------------------------------------------------------------\n",
      "MOF builder is ready to build\n",
      "Optimized rotations are loaded from:  rota.npy\n",
      "ditopic mof builder driver is called\n",
      "load the saved optimized_rotations from the previous optimization\n",
      " no symmetry operation\n",
      " no symmetry operation\n",
      "trying to read pdb file nodes/12c_Zr.pdb\n",
      "trying to read pdb file edges/diedge.pdb\n",
      "use the loaded optimized_rotations from the previous optimization\n",
      "Optimized New Cell Parameters: [39.35239 39.35239 39.35239 90.      90.      90.     ] \n",
      "Template Cell Parameters: [30.0, 30.0, 30.0, 90.0, 90.0, 90.0]\n",
      "--------------------------------------------------------------------------------\n",
      "                Building time cost: 0.05199 seconds \n",
      "--------------------------------------------------------------------------------\n",
      "main fragment of the MOF cell is kept\n",
      "gro_name is not set, will be saved as:  mof_UiO-67_ndi.gro\n",
      "writing gro file\n",
      "nodes: 50 edges: 108\n",
      "mof_UiO-67_ndi.gro is saved\n",
      "node_res_num:  14\n",
      "edge_res_num:  36\n",
      "term_res_num:  96\n",
      "saved_eG is saved nodes:  50 edges:  108\n",
      "defective eG is updated nodes:  47 edges:  99\n",
      "main fragment of the MOF cell is kept\n",
      "defect_gro_name is not set, will be saved as:  defective_mof_UiO-67_ndi.gro\n",
      "writing defective gro file\n",
      "defective_mof_UiO-67_ndi.gro is saved\n",
      "node_res_num:  13\n",
      "edge_res_num:  33\n",
      "term_res_num:  87\n"
     ]
    }
   ],
   "source": [
    "from src.MOF_builder.vlx_mof_builder_v2 import mof_builder\n",
    "mof = mof_builder()\n",
    "mof.preparation.select_mof_family('UiO-67')\n",
    "mof.preparation.select_node_metal('Zr')\n",
    "#mof.preparation.use_dummy_node(True)\n",
    "mof.preparation.fetch_node()\n",
    "mof.preparation.fetch_linker('ndi.xyz')\n",
    "mof.preparation_check()\n",
    "mof.rotation_optimizer_maxfun = 1000\n",
    "mof.use_saved_optimized_rotations_npy('rota')\n",
    "#save optimized rotations to numpy file for later use\n",
    "mof.save_optimized_rotations('rota')\n",
    "mof.set_supercell([1,1,1])\n",
    "mof.build()\n",
    "mof.write_gro()\n",
    "mof.set_remove_edge_list([30,31,32])\n",
    "mof.set_remove_node_list([])\n",
    "mof.make_defects_missing()\n",
    "mof.write_defect_gro()\n"
   ]
  },
  {
   "cell_type": "markdown",
   "metadata": {},
   "source": [
    "## defects and postprocess of node residues split \n",
    " done: make defects on eG and add terminations \n",
    "#### todo: add linker exchange defects by superimpose the x ;linker_termination can be realized by linker exchange;\n",
    "#### todo: split dummy nodes by use dummy dict info ;"
   ]
  },
  {
   "cell_type": "markdown",
   "metadata": {},
   "source": [
    "## todo: multitopic test\n",
    "## todo: bridge node and virtual edge test "
   ]
  }
 ],
 "metadata": {
  "kernelspec": {
   "display_name": "vlx",
   "language": "python",
   "name": "python3"
  },
  "language_info": {
   "codemirror_mode": {
    "name": "ipython",
    "version": 3
   },
   "file_extension": ".py",
   "mimetype": "text/x-python",
   "name": "python",
   "nbconvert_exporter": "python",
   "pygments_lexer": "ipython3",
   "version": "3.11.8"
  }
 },
 "nbformat": 4,
 "nbformat_minor": 2
}
